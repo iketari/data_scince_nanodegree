{
 "cells": [
  {
   "cell_type": "code",
   "execution_count": 2,
   "metadata": {},
   "outputs": [
    {
     "name": "stdout",
     "output_type": "stream",
     "text": [
      "(1, 1) 0\n",
      "(2, 4) -342\n",
      "(5, -5) -210\n",
      "(-4, 5) 0\n"
     ]
    }
   ],
   "source": [
    "import numpy as np\n",
    "\n",
    "def score(x1, x2):\n",
    "    return 4 * x1 + 5 * x2 - 9\n",
    "\n",
    "def sigmoid(x, derivative=True):\n",
    "    return x*(1-x) if derivative else 1/(1+np.exp(-x))\n",
    "\n",
    "dots = [\n",
    "    (1,1),\n",
    "    (2,4),\n",
    "    (5,-5),\n",
    "    (-4,5)\n",
    "]\n",
    "\n",
    "for dot in dots:\n",
    "    print(dot, sigmoid(score(*dot)))"
   ]
  },
  {
   "cell_type": "code",
   "execution_count": 4,
   "metadata": {},
   "outputs": [
    {
     "data": {
      "text/plain": [
       "array([ 0.09003057,  0.24472847,  0.66524096])"
      ]
     },
     "execution_count": 4,
     "metadata": {},
     "output_type": "execute_result"
    }
   ],
   "source": [
    "# Write a function that takes as input a list of numbers, and returns\n",
    "# the list of values given by the softmax function.\n",
    "def softmax(L):\n",
    "    exp = np.vectorize(lambda x: np.exp(x))\n",
    "    sum = np.sum(exp(L))\n",
    "    return np.array(list(map(lambda x: np.exp(x) / sum, L)))\n",
    "\n",
    "softmax([1,2,3])"
   ]
  },
  {
   "cell_type": "code",
   "execution_count": null,
   "metadata": {},
   "outputs": [],
   "source": []
  }
 ],
 "metadata": {
  "kernelspec": {
   "display_name": "Python 3",
   "language": "python",
   "name": "python3"
  },
  "language_info": {
   "codemirror_mode": {
    "name": "ipython",
    "version": 3
   },
   "file_extension": ".py",
   "mimetype": "text/x-python",
   "name": "python",
   "nbconvert_exporter": "python",
   "pygments_lexer": "ipython3",
   "version": "3.5.5"
  }
 },
 "nbformat": 4,
 "nbformat_minor": 2
}
