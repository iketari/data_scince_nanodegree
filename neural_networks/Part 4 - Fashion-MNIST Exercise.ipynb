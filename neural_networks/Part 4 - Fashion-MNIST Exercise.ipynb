{
 "cells": [
  {
   "cell_type": "markdown",
   "metadata": {},
   "source": [
    "# Classifying Fashion-MNIST\n",
    "\n",
    "Now it's your turn to build and train a neural network. You'll be using the [Fashion-MNIST dataset](https://github.com/zalandoresearch/fashion-mnist), a drop-in replacement for the MNIST dataset. MNIST is actually quite trivial with neural networks where you can easily achieve better than 97% accuracy. Fashion-MNIST is a set of 28x28 greyscale images of clothes. It's more complex than MNIST, so it's a better representation of the actual performance of your network, and a better representation of datasets you'll use in the real world.\n",
    "\n",
    "<img src='assets/fashion-mnist-sprite.png' width=500px>\n",
    "\n",
    "In this notebook, you'll build your own neural network. For the most part, you could just copy and paste the code from Part 3, but you wouldn't be learning. It's important for you to write the code yourself and get it to work. Feel free to consult the previous notebook though as you work through this.\n",
    "\n",
    "First off, let's load the dataset through torchvision."
   ]
  },
  {
   "cell_type": "code",
   "execution_count": 1,
   "metadata": {},
   "outputs": [],
   "source": [
    "import torch\n",
    "from torchvision import datasets, transforms\n",
    "import helper\n",
    "\n",
    "# Define a transform to normalize the data\n",
    "transform = transforms.Compose([transforms.ToTensor(),\n",
    "                                transforms.Normalize((0.5, 0.5, 0.5), (0.5, 0.5, 0.5))])\n",
    "# Download and load the training data\n",
    "trainset = datasets.FashionMNIST('F_MNIST_data/', download=True, train=True, transform=transform)\n",
    "trainloader = torch.utils.data.DataLoader(trainset, batch_size=64, shuffle=True)\n",
    "\n",
    "# Download and load the test data\n",
    "testset = datasets.FashionMNIST('F_MNIST_data/', download=True, train=False, transform=transform)\n",
    "testloader = torch.utils.data.DataLoader(testset, batch_size=64, shuffle=True)"
   ]
  },
  {
   "cell_type": "markdown",
   "metadata": {},
   "source": [
    "Here we can see one of the images."
   ]
  },
  {
   "cell_type": "code",
   "execution_count": 3,
   "metadata": {},
   "outputs": [
    {
     "data": {
      "image/png": "[encoded data removed]",
      "text/plain": [
       "<matplotlib.figure.Figure at 0x7f7545487470>"
      ]
     },
     "metadata": {},
     "output_type": "display_data"
    }
   ],
   "source": [
    "image, label = next(iter(trainloader))\n",
    "helper.imshow(image[0,:]);"
   ]
  },
  {
   "cell_type": "markdown",
   "metadata": {},
   "source": [
    "With the data loaded, it's time to import the necessary packages."
   ]
  },
  {
   "cell_type": "code",
   "execution_count": 6,
   "metadata": {},
   "outputs": [],
   "source": [
    "%matplotlib inline\n",
    "%config InlineBackend.figure_format = 'retina'\n",
    "\n",
    "import matplotlib.pyplot as plt\n",
    "import numpy as np\n",
    "import time\n",
    "\n",
    "import torch\n",
    "from torch import nn\n",
    "from torch import optim\n",
    "import torch.nn.functional as F\n",
    "from torchvision import datasets, transforms\n",
    "\n",
    "from collections import OrderedDict\n",
    "\n",
    "import helper"
   ]
  },
  {
   "cell_type": "markdown",
   "metadata": {},
   "source": [
    "## Building the network\n",
    "\n",
    "Here you should define your network. As with MNIST, each image is 28x28 which is a total of 784 pixels, and there are 10 classes. You should include at least one hidden layer. We suggest you use ReLU activations for the layers and to return the logits from the forward pass. It's up to you how many layers you add and the size of those layers."
   ]
  },
  {
   "cell_type": "code",
   "execution_count": 7,
   "metadata": {},
   "outputs": [
    {
     "data": {
      "text/plain": [
       "Sequential(\n",
       "  (fc1): Linear(in_features=784, out_features=128, bias=True)\n",
       "  (relu1): ReLU()\n",
       "  (fc2): Linear(in_features=128, out_features=64, bias=True)\n",
       "  (relu2): ReLU()\n",
       "  (logits): Linear(in_features=64, out_features=10, bias=True)\n",
       ")"
      ]
     },
     "execution_count": 7,
     "metadata": {},
     "output_type": "execute_result"
    }
   ],
   "source": [
    "# Hyperparameters for our network\n",
    "input_size = 784\n",
    "hidden_sizes = [128, 64]\n",
    "output_size = 10\n",
    "\n",
    "# Build a feed-forward network\n",
    "model = nn.Sequential(OrderedDict([\n",
    "                      ('fc1', nn.Linear(input_size, hidden_sizes[0])),\n",
    "                      ('relu1', nn.ReLU()),\n",
    "                      ('fc2', nn.Linear(hidden_sizes[0], hidden_sizes[1])),\n",
    "                      ('relu2', nn.ReLU()),\n",
    "                      ('logits', nn.Linear(hidden_sizes[1], output_size))]))\n",
    "model"
   ]
  },
  {
   "cell_type": "markdown",
   "metadata": {},
   "source": [
    "# Train the network\n",
    "\n",
    "Now you should create your network and train it. First you'll want to define [the criterion](http://pytorch.org/docs/master/nn.html#loss-functions) ( something like `nn.CrossEntropyLoss`) and [the optimizer](http://pytorch.org/docs/master/optim.html) (typically `optim.SGD` or `optim.Adam`).\n",
    "\n",
    "Then write the training code. Remember the training pass is a fairly straightforward process:\n",
    "\n",
    "* Make a forward pass through the network to get the logits \n",
    "* Use the logits to calculate the loss\n",
    "* Perform a backward pass through the network with `loss.backward()` to calculate the gradients\n",
    "* Take a step with the optimizer to update the weights\n",
    "\n",
    "By adjusting the hyperparameters (hidden units, learning rate, etc), you should be able to get the training loss below 0.4."
   ]
  },
  {
   "cell_type": "code",
   "execution_count": 8,
   "metadata": {},
   "outputs": [],
   "source": [
    "# TODO: Create the network, define the criterion and optimizer\n",
    "criterion = nn.CrossEntropyLoss()\n",
    "optimizer = optim.Adam(model.parameters(), lr=0.01)"
   ]
  },
  {
   "cell_type": "code",
   "execution_count": 9,
   "metadata": {},
   "outputs": [
    {
     "name": "stdout",
     "output_type": "stream",
     "text": [
      "Epoch: 1/10...  Loss: 0.8132\n",
      "Epoch: 1/10...  Loss: 0.5771\n",
      "Epoch: 1/10...  Loss: 0.5388\n",
      "Epoch: 1/10...  Loss: 0.5518\n",
      "Epoch: 1/10...  Loss: 0.5178\n",
      "Epoch: 1/10...  Loss: 0.4873\n",
      "Epoch: 1/10...  Loss: 0.4984\n",
      "Epoch: 1/10...  Loss: 0.4943\n",
      "Epoch: 1/10...  Loss: 0.4765\n",
      "Epoch: 2/10...  Loss: 0.2931\n",
      "Epoch: 2/10...  Loss: 0.4750\n",
      "Epoch: 2/10...  Loss: 0.4704\n",
      "Epoch: 2/10...  Loss: 0.4324\n",
      "Epoch: 2/10...  Loss: 0.4562\n",
      "Epoch: 2/10...  Loss: 0.4309\n",
      "Epoch: 2/10...  Loss: 0.4159\n",
      "Epoch: 2/10...  Loss: 0.4244\n",
      "Epoch: 2/10...  Loss: 0.4404\n",
      "Epoch: 3/10...  Loss: 0.0941\n",
      "Epoch: 3/10...  Loss: 0.4136\n",
      "Epoch: 3/10...  Loss: 0.4227\n",
      "Epoch: 3/10...  Loss: 0.4213\n",
      "Epoch: 3/10...  Loss: 0.4142\n",
      "Epoch: 3/10...  Loss: 0.4310\n",
      "Epoch: 3/10...  Loss: 0.4273\n",
      "Epoch: 3/10...  Loss: 0.4099\n",
      "Epoch: 3/10...  Loss: 0.4105\n",
      "Epoch: 3/10...  Loss: 0.4061\n",
      "Epoch: 4/10...  Loss: 0.3293\n",
      "Epoch: 4/10...  Loss: 0.3912\n",
      "Epoch: 4/10...  Loss: 0.3950\n",
      "Epoch: 4/10...  Loss: 0.3895\n",
      "Epoch: 4/10...  Loss: 0.4019\n",
      "Epoch: 4/10...  Loss: 0.4170\n",
      "Epoch: 4/10...  Loss: 0.4159\n",
      "Epoch: 4/10...  Loss: 0.3995\n",
      "Epoch: 4/10...  Loss: 0.3721\n",
      "Epoch: 5/10...  Loss: 0.1914\n",
      "Epoch: 5/10...  Loss: 0.3710\n",
      "Epoch: 5/10...  Loss: 0.3820\n",
      "Epoch: 5/10...  Loss: 0.4035\n",
      "Epoch: 5/10...  Loss: 0.3853\n",
      "Epoch: 5/10...  Loss: 0.3791\n",
      "Epoch: 5/10...  Loss: 0.4110\n",
      "Epoch: 5/10...  Loss: 0.3991\n",
      "Epoch: 5/10...  Loss: 0.3819\n",
      "Epoch: 6/10...  Loss: 0.0442\n",
      "Epoch: 6/10...  Loss: 0.3549\n",
      "Epoch: 6/10...  Loss: 0.3742\n",
      "Epoch: 6/10...  Loss: 0.3912\n",
      "Epoch: 6/10...  Loss: 0.3871\n",
      "Epoch: 6/10...  Loss: 0.3626\n",
      "Epoch: 6/10...  Loss: 0.3727\n",
      "Epoch: 6/10...  Loss: 0.3771\n",
      "Epoch: 6/10...  Loss: 0.3893\n",
      "Epoch: 6/10...  Loss: 0.3819\n",
      "Epoch: 7/10...  Loss: 0.2526\n",
      "Epoch: 7/10...  Loss: 0.3628\n",
      "Epoch: 7/10...  Loss: 0.3718\n",
      "Epoch: 7/10...  Loss: 0.3965\n",
      "Epoch: 7/10...  Loss: 0.4092\n",
      "Epoch: 7/10...  Loss: 0.3727\n",
      "Epoch: 7/10...  Loss: 0.3766\n",
      "Epoch: 7/10...  Loss: 0.3734\n",
      "Epoch: 7/10...  Loss: 0.3854\n",
      "Epoch: 8/10...  Loss: 0.1225\n",
      "Epoch: 8/10...  Loss: 0.3553\n",
      "Epoch: 8/10...  Loss: 0.3958\n",
      "Epoch: 8/10...  Loss: 0.3470\n",
      "Epoch: 8/10...  Loss: 0.3721\n",
      "Epoch: 8/10...  Loss: 0.3811\n",
      "Epoch: 8/10...  Loss: 0.3711\n",
      "Epoch: 8/10...  Loss: 0.3835\n",
      "Epoch: 8/10...  Loss: 0.3663\n",
      "Epoch: 8/10...  Loss: 0.3632\n",
      "Epoch: 9/10...  Loss: 0.3282\n",
      "Epoch: 9/10...  Loss: 0.3520\n",
      "Epoch: 9/10...  Loss: 0.3713\n",
      "Epoch: 9/10...  Loss: 0.3565\n",
      "Epoch: 9/10...  Loss: 0.3850\n",
      "Epoch: 9/10...  Loss: 0.3781\n",
      "Epoch: 9/10...  Loss: 0.3843\n",
      "Epoch: 9/10...  Loss: 0.3610\n",
      "Epoch: 9/10...  Loss: 0.3505\n",
      "Epoch: 10/10...  Loss: 0.1907\n",
      "Epoch: 10/10...  Loss: 0.3352\n",
      "Epoch: 10/10...  Loss: 0.3421\n",
      "Epoch: 10/10...  Loss: 0.3753\n",
      "Epoch: 10/10...  Loss: 0.3475\n",
      "Epoch: 10/10...  Loss: 0.3471\n",
      "Epoch: 10/10...  Loss: 0.3589\n",
      "Epoch: 10/10...  Loss: 0.3591\n",
      "Epoch: 10/10...  Loss: 0.3502\n"
     ]
    }
   ],
   "source": [
    "# TODO: Train the network here\n",
    "epochs = 10\n",
    "print_every = 100\n",
    "steps = 0\n",
    "for e in range(epochs):\n",
    "    running_loss = 0\n",
    "    for images, labels in iter(trainloader):\n",
    "        steps += 1\n",
    "        # Flatten MNIST images into a 784 long vector\n",
    "        images.resize_(images.size()[0], 784)\n",
    "        \n",
    "        optimizer.zero_grad()\n",
    "        \n",
    "        # Forward and backward passes\n",
    "        output = model.forward(images)\n",
    "        loss = criterion(output, labels)\n",
    "        loss.backward()\n",
    "        optimizer.step()\n",
    "        \n",
    "        running_loss += loss.item()\n",
    "        \n",
    "        if steps % print_every == 0:\n",
    "            print(\"Epoch: {}/{}... \".format(e+1, epochs),\n",
    "                  \"Loss: {:.4f}\".format(running_loss/print_every))\n",
    "            \n",
    "            running_loss = 0"
   ]
  },
  {
   "cell_type": "code",
   "execution_count": 18,
   "metadata": {},
   "outputs": [
    {
     "data": {
      "image/png": "[encoded data removed]",
      "text/plain": [
       "<matplotlib.figure.Figure at 0x7f7536e887f0>"
      ]
     },
     "metadata": {
      "image/png": {
       "height": 204,
       "width": 423
      }
     },
     "output_type": "display_data"
    }
   ],
   "source": [
    "# Test out your network!\n",
    "\n",
    "dataiter = iter(testloader)\n",
    "images, labels = dataiter.next()\n",
    "img = images[0]\n",
    "# Convert 2D image to 1D vector\n",
    "img = img.resize_(1, 784)\n",
    "\n",
    "# Turn off gradients to speed up this part\n",
    "with torch.no_grad():\n",
    "    logits = model.forward(img)\n",
    "\n",
    "# TODO: Calculate the class probabilities (softmax) for img\n",
    "ps = F.softmax(logits, dim=1)\n",
    "# Plot the image and probabilities\n",
    "helper.view_classify(img.resize_(1, 28, 28), ps, version='Fashion')"
   ]
  },
  {
   "cell_type": "markdown",
   "metadata": {},
   "source": [
    "Now that your network is trained, you'll want to save it to disk so you can load it later instead of training it again. Obviously, it's impractical to train a network every time you need one. In practice, you'll train it once, save the model, then reload it for further training or making predictions. In the next part, I'll show you how to save and load trained models."
   ]
  }
 ],
 "metadata": {
  "kernelspec": {
   "display_name": "Python 3",
   "language": "python",
   "name": "python3"
  },
  "language_info": {
   "codemirror_mode": {
    "name": "ipython",
    "version": 3
   },
   "file_extension": ".py",
   "mimetype": "text/x-python",
   "name": "python",
   "nbconvert_exporter": "python",
   "pygments_lexer": "ipython3",
   "version": "3.6.3"
  }
 },
 "nbformat": 4,
 "nbformat_minor": 2
}
